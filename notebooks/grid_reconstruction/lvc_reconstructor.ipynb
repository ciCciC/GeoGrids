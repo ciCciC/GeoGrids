{
 "cells": [
  {
   "cell_type": "markdown",
   "source": [
    "# Low Voltage Cables Reconstructor"
   ],
   "metadata": {
    "collapsed": false
   }
  },
  {
   "cell_type": "code",
   "execution_count": 1,
   "outputs": [
    {
     "name": "stderr",
     "output_type": "stream",
     "text": [
      "/var/folders/bh/hhr2wkwn2ldcpz5w4tgn7sb80000gn/T/ipykernel_11527/1416953078.py:1: UserWarning: Shapely 2.0 is installed, but because PyGEOS is also installed, GeoPandas will still use PyGEOS by default for now. To force to use and test Shapely 2.0, you have to set the environment variable USE_PYGEOS=0. You can do this before starting the Python process, or in your code before importing geopandas:\n",
      "\n",
      "import os\n",
      "os.environ['USE_PYGEOS'] = '0'\n",
      "import geopandas\n",
      "\n",
      "In a future release, GeoPandas will switch to using Shapely by default. If you are using PyGEOS directly (calling PyGEOS functions on geometries from GeoPandas), this will then stop working and you are encouraged to migrate from PyGEOS to Shapely 2.0 (https://shapely.readthedocs.io/en/latest/migration_pygeos.html).\n",
      "  import geopandas as gpd\n"
     ]
    }
   ],
   "source": [
    "import geopandas as gpd\n",
    "import numpy as np\n",
    "import pandas as pd\n",
    "import pyproj\n",
    "from shapely import Point\n",
    "import matplotlib.pyplot as plt"
   ],
   "metadata": {
    "collapsed": false,
    "ExecuteTime": {
     "end_time": "2023-06-08T08:35:20.592635Z",
     "start_time": "2023-06-08T08:35:18.267910Z"
    }
   }
  },
  {
   "cell_type": "markdown",
   "source": [
    "# 1. Analyse"
   ],
   "metadata": {
    "collapsed": false
   }
  },
  {
   "cell_type": "markdown",
   "source": [
    "Load data"
   ],
   "metadata": {
    "collapsed": false
   }
  },
  {
   "cell_type": "code",
   "execution_count": 2,
   "outputs": [
    {
     "data": {
      "text/plain": "        id                                           geometry    station  \\\n0  3337146  LINESTRING (5.70785 51.95208, 5.70783 51.95208...  OS RENKUM   \n1  3337161  LINESTRING (5.70684 51.95345, 5.70683 51.95343...  OS RENKUM   \n2  3337172  LINESTRING (5.70719 51.95240, 5.70719 51.95240...  OS RENKUM   \n3  3337187  LINESTRING (5.70743 51.95292, 5.70740 51.95293...  OS RENKUM   \n4  3337202  LINESTRING (5.70761 51.95377, 5.70760 51.95377...  OS RENKUM   \n\n      kv  \n0  < 0.4  \n1  < 0.4  \n2  < 0.4  \n3  < 0.4  \n4  < 0.4  ",
      "text/html": "<div>\n<style scoped>\n    .dataframe tbody tr th:only-of-type {\n        vertical-align: middle;\n    }\n\n    .dataframe tbody tr th {\n        vertical-align: top;\n    }\n\n    .dataframe thead th {\n        text-align: right;\n    }\n</style>\n<table border=\"1\" class=\"dataframe\">\n  <thead>\n    <tr style=\"text-align: right;\">\n      <th></th>\n      <th>id</th>\n      <th>geometry</th>\n      <th>station</th>\n      <th>kv</th>\n    </tr>\n  </thead>\n  <tbody>\n    <tr>\n      <th>0</th>\n      <td>3337146</td>\n      <td>LINESTRING (5.70785 51.95208, 5.70783 51.95208...</td>\n      <td>OS RENKUM</td>\n      <td>&lt; 0.4</td>\n    </tr>\n    <tr>\n      <th>1</th>\n      <td>3337161</td>\n      <td>LINESTRING (5.70684 51.95345, 5.70683 51.95343...</td>\n      <td>OS RENKUM</td>\n      <td>&lt; 0.4</td>\n    </tr>\n    <tr>\n      <th>2</th>\n      <td>3337172</td>\n      <td>LINESTRING (5.70719 51.95240, 5.70719 51.95240...</td>\n      <td>OS RENKUM</td>\n      <td>&lt; 0.4</td>\n    </tr>\n    <tr>\n      <th>3</th>\n      <td>3337187</td>\n      <td>LINESTRING (5.70743 51.95292, 5.70740 51.95293...</td>\n      <td>OS RENKUM</td>\n      <td>&lt; 0.4</td>\n    </tr>\n    <tr>\n      <th>4</th>\n      <td>3337202</td>\n      <td>LINESTRING (5.70761 51.95377, 5.70760 51.95377...</td>\n      <td>OS RENKUM</td>\n      <td>&lt; 0.4</td>\n    </tr>\n  </tbody>\n</table>\n</div>"
     },
     "execution_count": 2,
     "metadata": {},
     "output_type": "execute_result"
    }
   ],
   "source": [
    "CRS = 4326\n",
    "\n",
    "laagspanningskabel = gpd.read_parquet('../../data/liander/laagspanningskabels_x_station.pyarrow')\n",
    "laagspanningskabel = laagspanningskabel.to_crs(pyproj.CRS.from_epsg(CRS))\n",
    "laagspanningskabel.head()"
   ],
   "metadata": {
    "collapsed": false,
    "ExecuteTime": {
     "end_time": "2023-06-06T12:08:25.392606Z",
     "start_time": "2023-06-06T12:08:24.166768Z"
    }
   }
  },
  {
   "cell_type": "code",
   "execution_count": 3,
   "outputs": [
    {
     "data": {
      "text/plain": "                                                  id          station  \\\n0  indicatief_verzorgingsgebied.3f7b1732-778d-4b1...  Wittevrouweveld   \n1  indicatief_verzorgingsgebied.0a727e27-ba60-487...       Boschpoort   \n2  indicatief_verzorgingsgebied.ed973a51-edcc-40e...             Heer   \n3  indicatief_verzorgingsgebied.9e164099-7d30-41a...       Schoonbron   \n4  indicatief_verzorgingsgebied.adc9060f-a6b2-4dd...      Terwinselen   \n\n  netbeheerder    status  totaleCapaciteitInvoedingMva  \\\n0       Enexis  Bestaand                            35   \n1       Enexis  Bestaand                            45   \n2       Enexis  Bestaand                            40   \n3       Enexis  Bestaand                            45   \n4       Enexis  Bestaand                           110   \n\n   totaleCapaciteitAfnameMva  beschikbareCapaciteitInvoedingHuidigMva  \\\n0                         35                                     34.0   \n1                         45                                      6.0   \n2                         40                                     38.0   \n3                         47                                      0.0   \n4                        116                                      0.0   \n\n   beschikbareCapaciteitAfnameHuidigMva  \\\n0                                  10.0   \n1                                  23.0   \n2                                   0.0   \n3                                   0.0   \n4                                   0.0   \n\n   verwachtJaarVanOverbelastingInvoeding  verwachtJaarVanOverbelastingAfname  \\\n0                                   2028                                2035   \n1                                   2023                                2035   \n2                                   2028                                2023   \n3                                   2023                                2023   \n4                                   2023                                2023   \n\n   ...  peildatum  beschikbareCapaciteitAfname3JaarMvaVisualisatie  \\\n0  ... 2022-12-14                                               10   \n1  ... 2022-12-14                                               23   \n2  ... 2022-12-14                                                0   \n3  ... 2022-12-14                                                0   \n4  ... 2022-12-14                                                0   \n\n   beschikbareCapaciteitAfname5JaarMvaVisualisatie  \\\n0                                               10   \n1                                               23   \n2                                                0   \n3                                                0   \n4                                                0   \n\n   beschikbareCapaciteitAfname10JaarMvaVisualisatie  \\\n0                                                10   \n1                                                23   \n2                                                 0   \n3                                                 0   \n4                                                 0   \n\n   beschikbareCapaciteitAfnameHuidigMvaVisualisatie  \\\n0                                                10   \n1                                                23   \n2                                                 0   \n3                                                 0   \n4                                                 0   \n\n   beschikbareCapaciteitInvoeding3JaarMvaVisualisatie  \\\n0                                                 34    \n1                                                  6    \n2                                                 38    \n3                                                  0    \n4                                                  0    \n\n   beschikbareCapaciteitInvoeding5JaarMvaVisualisatie  \\\n0                                                 34    \n1                                                  6    \n2                                                 38    \n3                                                  0    \n4                                                  0    \n\n   beschikbareCapaciteitInvoeding10JaarMvaVisualisatie  \\\n0                                                 34     \n1                                                  6     \n2                                                 38     \n3                                                  0     \n4                                                  0     \n\n   beschikbareCapaciteitInvoedingHuidigMvaVisualisatie  \\\n0                                                 34     \n1                                                  6     \n2                                                 38     \n3                                                  0     \n4                                                  0     \n\n                                            geometry  \n0  MULTIPOLYGON (((5.66455 50.83226, 5.70274 50.8...  \n1  MULTIPOLYGON (((5.64897 50.82704, 5.64918 50.8...  \n2  MULTIPOLYGON (((5.83113 50.75886, 5.83102 50.7...  \n3  MULTIPOLYGON (((5.91508 50.75040, 5.91508 50.7...  \n4  MULTIPOLYGON (((6.05465 50.92368, 6.05450 50.9...  \n\n[5 rows x 30 columns]",
      "text/html": "<div>\n<style scoped>\n    .dataframe tbody tr th:only-of-type {\n        vertical-align: middle;\n    }\n\n    .dataframe tbody tr th {\n        vertical-align: top;\n    }\n\n    .dataframe thead th {\n        text-align: right;\n    }\n</style>\n<table border=\"1\" class=\"dataframe\">\n  <thead>\n    <tr style=\"text-align: right;\">\n      <th></th>\n      <th>id</th>\n      <th>station</th>\n      <th>netbeheerder</th>\n      <th>status</th>\n      <th>totaleCapaciteitInvoedingMva</th>\n      <th>totaleCapaciteitAfnameMva</th>\n      <th>beschikbareCapaciteitInvoedingHuidigMva</th>\n      <th>beschikbareCapaciteitAfnameHuidigMva</th>\n      <th>verwachtJaarVanOverbelastingInvoeding</th>\n      <th>verwachtJaarVanOverbelastingAfname</th>\n      <th>...</th>\n      <th>peildatum</th>\n      <th>beschikbareCapaciteitAfname3JaarMvaVisualisatie</th>\n      <th>beschikbareCapaciteitAfname5JaarMvaVisualisatie</th>\n      <th>beschikbareCapaciteitAfname10JaarMvaVisualisatie</th>\n      <th>beschikbareCapaciteitAfnameHuidigMvaVisualisatie</th>\n      <th>beschikbareCapaciteitInvoeding3JaarMvaVisualisatie</th>\n      <th>beschikbareCapaciteitInvoeding5JaarMvaVisualisatie</th>\n      <th>beschikbareCapaciteitInvoeding10JaarMvaVisualisatie</th>\n      <th>beschikbareCapaciteitInvoedingHuidigMvaVisualisatie</th>\n      <th>geometry</th>\n    </tr>\n  </thead>\n  <tbody>\n    <tr>\n      <th>0</th>\n      <td>indicatief_verzorgingsgebied.3f7b1732-778d-4b1...</td>\n      <td>Wittevrouweveld</td>\n      <td>Enexis</td>\n      <td>Bestaand</td>\n      <td>35</td>\n      <td>35</td>\n      <td>34.0</td>\n      <td>10.0</td>\n      <td>2028</td>\n      <td>2035</td>\n      <td>...</td>\n      <td>2022-12-14</td>\n      <td>10</td>\n      <td>10</td>\n      <td>10</td>\n      <td>10</td>\n      <td>34</td>\n      <td>34</td>\n      <td>34</td>\n      <td>34</td>\n      <td>MULTIPOLYGON (((5.66455 50.83226, 5.70274 50.8...</td>\n    </tr>\n    <tr>\n      <th>1</th>\n      <td>indicatief_verzorgingsgebied.0a727e27-ba60-487...</td>\n      <td>Boschpoort</td>\n      <td>Enexis</td>\n      <td>Bestaand</td>\n      <td>45</td>\n      <td>45</td>\n      <td>6.0</td>\n      <td>23.0</td>\n      <td>2023</td>\n      <td>2035</td>\n      <td>...</td>\n      <td>2022-12-14</td>\n      <td>23</td>\n      <td>23</td>\n      <td>23</td>\n      <td>23</td>\n      <td>6</td>\n      <td>6</td>\n      <td>6</td>\n      <td>6</td>\n      <td>MULTIPOLYGON (((5.64897 50.82704, 5.64918 50.8...</td>\n    </tr>\n    <tr>\n      <th>2</th>\n      <td>indicatief_verzorgingsgebied.ed973a51-edcc-40e...</td>\n      <td>Heer</td>\n      <td>Enexis</td>\n      <td>Bestaand</td>\n      <td>40</td>\n      <td>40</td>\n      <td>38.0</td>\n      <td>0.0</td>\n      <td>2028</td>\n      <td>2023</td>\n      <td>...</td>\n      <td>2022-12-14</td>\n      <td>0</td>\n      <td>0</td>\n      <td>0</td>\n      <td>0</td>\n      <td>38</td>\n      <td>38</td>\n      <td>38</td>\n      <td>38</td>\n      <td>MULTIPOLYGON (((5.83113 50.75886, 5.83102 50.7...</td>\n    </tr>\n    <tr>\n      <th>3</th>\n      <td>indicatief_verzorgingsgebied.9e164099-7d30-41a...</td>\n      <td>Schoonbron</td>\n      <td>Enexis</td>\n      <td>Bestaand</td>\n      <td>45</td>\n      <td>47</td>\n      <td>0.0</td>\n      <td>0.0</td>\n      <td>2023</td>\n      <td>2023</td>\n      <td>...</td>\n      <td>2022-12-14</td>\n      <td>0</td>\n      <td>0</td>\n      <td>0</td>\n      <td>0</td>\n      <td>0</td>\n      <td>0</td>\n      <td>0</td>\n      <td>0</td>\n      <td>MULTIPOLYGON (((5.91508 50.75040, 5.91508 50.7...</td>\n    </tr>\n    <tr>\n      <th>4</th>\n      <td>indicatief_verzorgingsgebied.adc9060f-a6b2-4dd...</td>\n      <td>Terwinselen</td>\n      <td>Enexis</td>\n      <td>Bestaand</td>\n      <td>110</td>\n      <td>116</td>\n      <td>0.0</td>\n      <td>0.0</td>\n      <td>2023</td>\n      <td>2023</td>\n      <td>...</td>\n      <td>2022-12-14</td>\n      <td>0</td>\n      <td>0</td>\n      <td>0</td>\n      <td>0</td>\n      <td>0</td>\n      <td>0</td>\n      <td>0</td>\n      <td>0</td>\n      <td>MULTIPOLYGON (((6.05465 50.92368, 6.05450 50.9...</td>\n    </tr>\n  </tbody>\n</table>\n<p>5 rows × 30 columns</p>\n</div>"
     },
     "execution_count": 3,
     "metadata": {},
     "output_type": "execute_result"
    }
   ],
   "source": [
    "verzorgingsgebied = gpd.read_parquet('../../data/atom/verzorgingsgebied.parquet')\n",
    "verzorgingsgebied = verzorgingsgebied.to_crs(pyproj.CRS.from_epsg(CRS))\n",
    "verzorgingsgebied.head()"
   ],
   "metadata": {
    "collapsed": false,
    "ExecuteTime": {
     "end_time": "2023-05-25T08:47:22.343920Z",
     "start_time": "2023-05-25T08:47:22.306200Z"
    }
   }
  },
  {
   "cell_type": "markdown",
   "source": [
    "Target power station"
   ],
   "metadata": {
    "collapsed": false
   }
  },
  {
   "cell_type": "code",
   "execution_count": 4,
   "outputs": [],
   "source": [
    "station_name = 'OS UILENBURG'\n",
    "df_lvc = laagspanningskabel[laagspanningskabel.station == station_name].copy()"
   ],
   "metadata": {
    "collapsed": false,
    "ExecuteTime": {
     "end_time": "2023-05-25T08:47:36.770168Z",
     "start_time": "2023-05-25T08:47:36.765785Z"
    }
   }
  },
  {
   "cell_type": "markdown",
   "source": [
    "Location Of Interest\n",
    "\n",
    "The target represents a mock sample 'medium voltage installations' (middenspanningsinstallaties)"
   ],
   "metadata": {
    "collapsed": false
   }
  },
  {
   "cell_type": "code",
   "execution_count": null,
   "outputs": [],
   "source": [
    "# 6.48077 51.87102"
   ],
   "metadata": {
    "collapsed": false
   }
  },
  {
   "cell_type": "code",
   "execution_count": null,
   "outputs": [],
   "source": [
    "# 4.90395056796126 52.37134702204639"
   ],
   "metadata": {
    "collapsed": false
   }
  },
  {
   "cell_type": "code",
   "execution_count": 5,
   "metadata": {
    "collapsed": true,
    "ExecuteTime": {
     "end_time": "2023-05-25T08:47:44.004131Z",
     "start_time": "2023-05-25T08:47:43.995829Z"
    }
   },
   "outputs": [],
   "source": [
    "lat = 52.37134702204639\n",
    "long = 4.90395056796126\n",
    "\n",
    "# lat = 52.37420300092799\n",
    "# long = 4.898515938086462\n",
    "\n",
    "# lat = 52.373215068108266\n",
    "# long = 4.899492327227819\n",
    "\n",
    "buffer_size = .00004\n",
    "target = Point(long, lat)\n",
    "target = target.buffer(buffer_size)\n",
    "target_gdp = gpd.GeoDataFrame({\n",
    "    'target': [1],\n",
    "}, geometry=[target], crs=laagspanningskabel.crs)\n",
    "\n",
    "target_gdp = target_gdp.to_crs(pyproj.CRS.from_epsg(CRS))"
   ]
  },
  {
   "cell_type": "markdown",
   "source": [
    "Actual presentation"
   ],
   "metadata": {
    "collapsed": false
   }
  },
  {
   "cell_type": "code",
   "execution_count": 6,
   "outputs": [
    {
     "data": {
      "text/plain": "<Figure size 800x800 with 1 Axes>",
      "image/png": "[encoded data removed]"
     },
     "metadata": {},
     "output_type": "display_data"
    }
   ],
   "source": [
    "fig, ax = plt.subplots(figsize=(8, 8))\n",
    "extend = .0001\n",
    "df_lvc.plot(ax=ax)\n",
    "target_gdp.plot(ax=ax, color='red')\n",
    "ax.set_xlim(long - extend, long + extend)\n",
    "ax.set_ylim(lat - extend, lat + extend);"
   ],
   "metadata": {
    "collapsed": false,
    "ExecuteTime": {
     "end_time": "2023-05-25T08:47:45.440337Z",
     "start_time": "2023-05-25T08:47:45.215652Z"
    }
   }
  },
  {
   "cell_type": "markdown",
   "source": [
    "Cable IDs"
   ],
   "metadata": {
    "collapsed": false
   }
  },
  {
   "cell_type": "code",
   "execution_count": 7,
   "outputs": [
    {
     "data": {
      "text/plain": "[435322391, 434222837, 434275720, 434150741, 434245324]"
     },
     "execution_count": 7,
     "metadata": {},
     "output_type": "execute_result"
    }
   ],
   "source": [
    "cable_id_low_to_high = [435322391, 434222837, 434275720, 434150741, 434245324]\n",
    "cable_id_low_to_high"
   ],
   "metadata": {
    "collapsed": false,
    "ExecuteTime": {
     "end_time": "2023-05-25T08:47:47.195258Z",
     "start_time": "2023-05-25T08:47:47.187937Z"
    }
   }
  },
  {
   "cell_type": "markdown",
   "source": [
    "Obtain cable (linestring) boundaries"
   ],
   "metadata": {
    "collapsed": false
   }
  },
  {
   "cell_type": "code",
   "execution_count": 8,
   "outputs": [],
   "source": [
    "s = df_lvc.geometry.boundary.apply(lambda x: list(x.geoms)[0])\n",
    "e = df_lvc.geometry.boundary.apply(lambda x: list(x.geoms)[1])\n",
    "\n",
    "s_e = np.hstack([s, e])\n",
    "\n",
    "df_nodes = gpd.GeoDataFrame(geometry=s_e, crs=CRS)"
   ],
   "metadata": {
    "collapsed": false,
    "ExecuteTime": {
     "end_time": "2023-05-25T08:47:48.437624Z",
     "start_time": "2023-05-25T08:47:48.205679Z"
    }
   }
  },
  {
   "cell_type": "markdown",
   "source": [
    "Plot boundaries for analysis"
   ],
   "metadata": {
    "collapsed": false
   }
  },
  {
   "cell_type": "code",
   "execution_count": 9,
   "outputs": [
    {
     "data": {
      "text/plain": "<Figure size 800x800 with 2 Axes>",
      "image/png": "[encoded data removed]"
     },
     "metadata": {},
     "output_type": "display_data"
    }
   ],
   "source": [
    "fig, ax = plt.subplots(nrows=1, ncols=2, figsize=(8, 8))\n",
    "\n",
    "extend = .00005\n",
    "# plot circle\n",
    "ax[0].set_title('Boundaries')\n",
    "target_gdp.plot(ax=ax[0], color='red')\n",
    "# plot node boundaries\n",
    "df_nodes.plot(ax=ax[0])\n",
    "# plot cables related to the boundaries\n",
    "df_lvc[df_lvc.id.isin(cable_id_low_to_high)].plot(ax=ax[0], color='green')\n",
    "ax[0].set_xlim(long - extend, long + extend)\n",
    "ax[0].set_ylim(lat - extend, lat + extend)\n",
    "\n",
    "ax[1].set_title('Actual')\n",
    "target_gdp.plot(ax=ax[1], color='red')\n",
    "df_lvc.plot(ax=ax[1])\n",
    "ax[1].set_xlim(long - extend, long + extend)\n",
    "ax[1].set_ylim(lat - extend, lat + extend)\n",
    "\n",
    "fig.tight_layout()"
   ],
   "metadata": {
    "collapsed": false,
    "ExecuteTime": {
     "end_time": "2023-05-25T08:47:50.643974Z",
     "start_time": "2023-05-25T08:47:50.045472Z"
    }
   }
  },
  {
   "cell_type": "markdown",
   "source": [
    "Left: depicts the end or start nodes from a line string that have a overlap with the field within the buffersize. Right: depicts only the line strings"
   ],
   "metadata": {
    "collapsed": false
   }
  },
  {
   "cell_type": "markdown",
   "source": [
    "Find boundaries that intersect with the target"
   ],
   "metadata": {
    "collapsed": false
   }
  },
  {
   "cell_type": "code",
   "execution_count": 10,
   "outputs": [
    {
     "name": "stderr",
     "output_type": "stream",
     "text": [
      "/var/folders/bh/hhr2wkwn2ldcpz5w4tgn7sb80000gn/T/ipykernel_39103/3551037431.py:1: UserWarning: Geometry is in a geographic CRS. Results from 'distance' are likely incorrect. Use 'GeoSeries.to_crs()' to re-project geometries to a projected CRS before this operation.\n",
      "\n",
      "  dist = df_nodes.distance(target_gdp.iloc[0, 1])\n"
     ]
    },
    {
     "data": {
      "text/plain": "                      geometry\n844   POINT (4.90395 52.37133)\n867   POINT (4.90393 52.37135)\n1751  POINT (4.90395 52.37133)\n4031  POINT (4.90393 52.37135)\n4159  POINT (4.90394 52.37134)",
      "text/html": "<div>\n<style scoped>\n    .dataframe tbody tr th:only-of-type {\n        vertical-align: middle;\n    }\n\n    .dataframe tbody tr th {\n        vertical-align: top;\n    }\n\n    .dataframe thead th {\n        text-align: right;\n    }\n</style>\n<table border=\"1\" class=\"dataframe\">\n  <thead>\n    <tr style=\"text-align: right;\">\n      <th></th>\n      <th>geometry</th>\n    </tr>\n  </thead>\n  <tbody>\n    <tr>\n      <th>844</th>\n      <td>POINT (4.90395 52.37133)</td>\n    </tr>\n    <tr>\n      <th>867</th>\n      <td>POINT (4.90393 52.37135)</td>\n    </tr>\n    <tr>\n      <th>1751</th>\n      <td>POINT (4.90395 52.37133)</td>\n    </tr>\n    <tr>\n      <th>4031</th>\n      <td>POINT (4.90393 52.37135)</td>\n    </tr>\n    <tr>\n      <th>4159</th>\n      <td>POINT (4.90394 52.37134)</td>\n    </tr>\n  </tbody>\n</table>\n</div>"
     },
     "execution_count": 10,
     "metadata": {},
     "output_type": "execute_result"
    }
   ],
   "source": [
    "dist = df_nodes.distance(target_gdp.iloc[0, 1])\n",
    "df_nodes[dist == 0]"
   ],
   "metadata": {
    "collapsed": false,
    "ExecuteTime": {
     "end_time": "2023-05-25T08:47:53.893530Z",
     "start_time": "2023-05-25T08:47:53.634074Z"
    }
   }
  },
  {
   "cell_type": "markdown",
   "source": [
    "Intersect boundaries"
   ],
   "metadata": {
    "collapsed": false
   }
  },
  {
   "cell_type": "code",
   "execution_count": 11,
   "outputs": [
    {
     "data": {
      "text/plain": "<Figure size 640x480 with 1 Axes>",
      "image/png": "[encoded data removed]"
     },
     "metadata": {},
     "output_type": "display_data"
    }
   ],
   "source": [
    "boundaries_intersects = df_nodes.intersects(target_gdp.iloc[0, 1])\n",
    "df_nodes[boundaries_intersects].plot();"
   ],
   "metadata": {
    "collapsed": false,
    "ExecuteTime": {
     "end_time": "2023-05-25T08:47:56.101140Z",
     "start_time": "2023-05-25T08:47:56.021661Z"
    }
   }
  },
  {
   "cell_type": "markdown",
   "source": [
    "Obtain boundaries on all cables"
   ],
   "metadata": {
    "collapsed": false
   }
  },
  {
   "cell_type": "code",
   "execution_count": 12,
   "outputs": [
    {
     "name": "stdout",
     "output_type": "stream",
     "text": [
      "CPU times: user 22.3 s, sys: 312 ms, total: 22.6 s\n",
      "Wall time: 22.6 s\n"
     ]
    }
   ],
   "source": [
    "%%time\n",
    "\n",
    "def f(cable, s: list, e: list):\n",
    "    boundaries = list(cable.geoms)\n",
    "\n",
    "    if len(boundaries) > 0:\n",
    "        s.append(boundaries[0])\n",
    "        e.append(boundaries[-1])\n",
    "\n",
    "start_holder = []\n",
    "end_holder = []\n",
    "\n",
    "_ = laagspanningskabel.geometry.boundary.apply(lambda cable: f(cable, start_holder, end_holder))"
   ],
   "metadata": {
    "collapsed": false,
    "ExecuteTime": {
     "end_time": "2023-05-25T08:49:00.928537Z",
     "start_time": "2023-05-25T08:48:38.307944Z"
    }
   }
  },
  {
   "cell_type": "markdown",
   "source": [
    "Stack all points in 1D and store as Geo"
   ],
   "metadata": {
    "collapsed": false
   }
  },
  {
   "cell_type": "code",
   "execution_count": 15,
   "outputs": [
    {
     "data": {
      "text/plain": "                   geometry\n0  POINT (5.70785 51.95208)\n1  POINT (5.70684 51.95345)\n2  POINT (5.70719 51.95240)\n3  POINT (5.70743 51.95292)\n4  POINT (5.70761 51.95377)",
      "text/html": "<div>\n<style scoped>\n    .dataframe tbody tr th:only-of-type {\n        vertical-align: middle;\n    }\n\n    .dataframe tbody tr th {\n        vertical-align: top;\n    }\n\n    .dataframe thead th {\n        text-align: right;\n    }\n</style>\n<table border=\"1\" class=\"dataframe\">\n  <thead>\n    <tr style=\"text-align: right;\">\n      <th></th>\n      <th>geometry</th>\n    </tr>\n  </thead>\n  <tbody>\n    <tr>\n      <th>0</th>\n      <td>POINT (5.70785 51.95208)</td>\n    </tr>\n    <tr>\n      <th>1</th>\n      <td>POINT (5.70684 51.95345)</td>\n    </tr>\n    <tr>\n      <th>2</th>\n      <td>POINT (5.70719 51.95240)</td>\n    </tr>\n    <tr>\n      <th>3</th>\n      <td>POINT (5.70743 51.95292)</td>\n    </tr>\n    <tr>\n      <th>4</th>\n      <td>POINT (5.70761 51.95377)</td>\n    </tr>\n  </tbody>\n</table>\n</div>"
     },
     "execution_count": 15,
     "metadata": {},
     "output_type": "execute_result"
    }
   ],
   "source": [
    "stacked_boundaries = np.hstack([start_holder, end_holder])\n",
    "\n",
    "df_boundaries = gpd.GeoDataFrame(geometry=stacked_boundaries, crs=CRS)\n",
    "df_boundaries.head()"
   ],
   "metadata": {
    "collapsed": false,
    "ExecuteTime": {
     "end_time": "2023-05-25T08:49:55.805687Z",
     "start_time": "2023-05-25T08:49:54.273530Z"
    }
   }
  },
  {
   "cell_type": "markdown",
   "source": [
    "# 2. Design algorithm"
   ],
   "metadata": {
    "collapsed": false
   }
  },
  {
   "cell_type": "markdown",
   "source": [
    "## 2.1 prepare data\n",
    "\n",
    "- laagspanningsverdeelkasten\n",
    "- middenspanningsinstallaties"
   ],
   "metadata": {
    "collapsed": false
   }
  },
  {
   "cell_type": "code",
   "execution_count": 16,
   "outputs": [
    {
     "data": {
      "text/plain": "          id                  geometry\n0  764125556  POINT (4.75765 52.38179)\n1  765130664  POINT (4.49548 52.14417)\n2  765181501  POINT (4.40168 52.14834)\n3  765181506  POINT (4.40176 52.14841)\n4  765181550  POINT (4.40183 52.14847)",
      "text/html": "<div>\n<style scoped>\n    .dataframe tbody tr th:only-of-type {\n        vertical-align: middle;\n    }\n\n    .dataframe tbody tr th {\n        vertical-align: top;\n    }\n\n    .dataframe thead th {\n        text-align: right;\n    }\n</style>\n<table border=\"1\" class=\"dataframe\">\n  <thead>\n    <tr style=\"text-align: right;\">\n      <th></th>\n      <th>id</th>\n      <th>geometry</th>\n    </tr>\n  </thead>\n  <tbody>\n    <tr>\n      <th>0</th>\n      <td>764125556</td>\n      <td>POINT (4.75765 52.38179)</td>\n    </tr>\n    <tr>\n      <th>1</th>\n      <td>765130664</td>\n      <td>POINT (4.49548 52.14417)</td>\n    </tr>\n    <tr>\n      <th>2</th>\n      <td>765181501</td>\n      <td>POINT (4.40168 52.14834)</td>\n    </tr>\n    <tr>\n      <th>3</th>\n      <td>765181506</td>\n      <td>POINT (4.40176 52.14841)</td>\n    </tr>\n    <tr>\n      <th>4</th>\n      <td>765181550</td>\n      <td>POINT (4.40183 52.14847)</td>\n    </tr>\n  </tbody>\n</table>\n</div>"
     },
     "execution_count": 16,
     "metadata": {},
     "output_type": "execute_result"
    }
   ],
   "source": [
    "CRS = 4326\n",
    "\n",
    "laagspanningsverdeelkasten = gpd.read_parquet('../../data/liander/laagspanningsverdeelkasten.pyarrow')\n",
    "laagspanningsverdeelkasten = laagspanningsverdeelkasten.to_crs(pyproj.CRS.from_epsg(CRS))\n",
    "laagspanningsverdeelkasten.head()"
   ],
   "metadata": {
    "collapsed": false,
    "ExecuteTime": {
     "end_time": "2023-05-25T08:49:59.335227Z",
     "start_time": "2023-05-25T08:49:59.196175Z"
    }
   }
  },
  {
   "cell_type": "code",
   "execution_count": 17,
   "outputs": [
    {
     "data": {
      "text/plain": "          id                  geometry\n0  816065352  POINT (6.48077 51.87102)\n1  817834249  POINT (5.98052 51.83813)\n2  843702200  POINT (6.02801 51.95570)\n3  853890452  POINT (5.97804 52.23576)\n4  854598048  POINT (5.45366 52.97253)",
      "text/html": "<div>\n<style scoped>\n    .dataframe tbody tr th:only-of-type {\n        vertical-align: middle;\n    }\n\n    .dataframe tbody tr th {\n        vertical-align: top;\n    }\n\n    .dataframe thead th {\n        text-align: right;\n    }\n</style>\n<table border=\"1\" class=\"dataframe\">\n  <thead>\n    <tr style=\"text-align: right;\">\n      <th></th>\n      <th>id</th>\n      <th>geometry</th>\n    </tr>\n  </thead>\n  <tbody>\n    <tr>\n      <th>0</th>\n      <td>816065352</td>\n      <td>POINT (6.48077 51.87102)</td>\n    </tr>\n    <tr>\n      <th>1</th>\n      <td>817834249</td>\n      <td>POINT (5.98052 51.83813)</td>\n    </tr>\n    <tr>\n      <th>2</th>\n      <td>843702200</td>\n      <td>POINT (6.02801 51.95570)</td>\n    </tr>\n    <tr>\n      <th>3</th>\n      <td>853890452</td>\n      <td>POINT (5.97804 52.23576)</td>\n    </tr>\n    <tr>\n      <th>4</th>\n      <td>854598048</td>\n      <td>POINT (5.45366 52.97253)</td>\n    </tr>\n  </tbody>\n</table>\n</div>"
     },
     "execution_count": 17,
     "metadata": {},
     "output_type": "execute_result"
    }
   ],
   "source": [
    "middenspanningsinstallaties = gpd.read_parquet('../../data/liander/middenspanningsinstallaties.pyarrow')\n",
    "middenspanningsinstallaties = middenspanningsinstallaties.to_crs(pyproj.CRS.from_epsg(CRS))\n",
    "middenspanningsinstallaties.head()"
   ],
   "metadata": {
    "collapsed": false,
    "ExecuteTime": {
     "end_time": "2023-05-25T08:50:02.424010Z",
     "start_time": "2023-05-25T08:50:02.344962Z"
    }
   }
  },
  {
   "cell_type": "code",
   "execution_count": 18,
   "outputs": [
    {
     "data": {
      "text/plain": "((32956, 2), (78748, 2))"
     },
     "execution_count": 18,
     "metadata": {},
     "output_type": "execute_result"
    }
   ],
   "source": [
    "middenspanningsinstallaties.shape, laagspanningsverdeelkasten.shape"
   ],
   "metadata": {
    "collapsed": false,
    "ExecuteTime": {
     "end_time": "2023-05-25T08:50:06.779858Z",
     "start_time": "2023-05-25T08:50:06.771310Z"
    }
   }
  },
  {
   "cell_type": "markdown",
   "source": [
    "Separate lon and lat from Point"
   ],
   "metadata": {
    "collapsed": false
   }
  },
  {
   "cell_type": "code",
   "execution_count": 19,
   "outputs": [
    {
     "data": {
      "text/plain": "        lon        lat\n0  5.707849  51.952076\n1  5.706844  51.953451\n2  5.707193  51.952405\n3  5.707426  51.952918\n4  5.707608  51.953768",
      "text/html": "<div>\n<style scoped>\n    .dataframe tbody tr th:only-of-type {\n        vertical-align: middle;\n    }\n\n    .dataframe tbody tr th {\n        vertical-align: top;\n    }\n\n    .dataframe thead th {\n        text-align: right;\n    }\n</style>\n<table border=\"1\" class=\"dataframe\">\n  <thead>\n    <tr style=\"text-align: right;\">\n      <th></th>\n      <th>lon</th>\n      <th>lat</th>\n    </tr>\n  </thead>\n  <tbody>\n    <tr>\n      <th>0</th>\n      <td>5.707849</td>\n      <td>51.952076</td>\n    </tr>\n    <tr>\n      <th>1</th>\n      <td>5.706844</td>\n      <td>51.953451</td>\n    </tr>\n    <tr>\n      <th>2</th>\n      <td>5.707193</td>\n      <td>51.952405</td>\n    </tr>\n    <tr>\n      <th>3</th>\n      <td>5.707426</td>\n      <td>51.952918</td>\n    </tr>\n    <tr>\n      <th>4</th>\n      <td>5.707608</td>\n      <td>51.953768</td>\n    </tr>\n  </tbody>\n</table>\n</div>"
     },
     "execution_count": 19,
     "metadata": {},
     "output_type": "execute_result"
    }
   ],
   "source": [
    "df_all_low_voltage_boundaries = pd.DataFrame({\n",
    "    'lon': df_boundaries.geometry.x,\n",
    "    'lat': df_boundaries.geometry.y\n",
    "})\n",
    "\n",
    "df_all_low_voltage_boundaries.head()"
   ],
   "metadata": {
    "collapsed": false,
    "ExecuteTime": {
     "end_time": "2023-05-25T08:50:20.236399Z",
     "start_time": "2023-05-25T08:50:19.981886Z"
    }
   }
  },
  {
   "cell_type": "code",
   "execution_count": 20,
   "outputs": [
    {
     "data": {
      "text/plain": "((1806068, 2), (1806068, 1))"
     },
     "execution_count": 20,
     "metadata": {},
     "output_type": "execute_result"
    }
   ],
   "source": [
    "df_all_low_voltage_boundaries.shape, df_boundaries.shape"
   ],
   "metadata": {
    "collapsed": false,
    "ExecuteTime": {
     "end_time": "2023-05-25T08:50:21.877666Z",
     "start_time": "2023-05-25T08:50:21.868658Z"
    }
   }
  },
  {
   "cell_type": "markdown",
   "source": [
    "## 2.2 Construct an unsupervised nearest neighbor searcher + density based algorithm"
   ],
   "metadata": {
    "collapsed": false
   }
  },
  {
   "cell_type": "code",
   "execution_count": 53,
   "outputs": [],
   "source": [
    "import tqdm\n",
    "from shapely import LineString\n",
    "from sklearn.neighbors import NearestNeighbors\n",
    "from sklearn.cluster import DBSCAN\n",
    "\n",
    "\n",
    "def compute_net_reconstructor(target_geo_points: pd.DataFrame | pd.Series, model_searcher: NearestNeighbors, max_dis: float = None):\n",
    "    \"\"\"\n",
    "    Fills the gaps (missing lines) between low voltage geo points and target points\n",
    "\n",
    "    :param max_dis: max distance between target point and nose or tail of a linestring\n",
    "    :param model_searcher: NearestNeighbors pretrained model\n",
    "    :param target_geo_points: e.g. middenspanningsinstallaties.geometry\n",
    "    :return: reconstructed and not_possible_lines lists\n",
    "    \"\"\"\n",
    "\n",
    "    reconstructed = []\n",
    "    not_possible_lines = []\n",
    "    threshold = .000010\n",
    "\n",
    "    for target_geo in tqdm.tqdm(target_geo_points):\n",
    "        lon = target_geo.x\n",
    "        lat = target_geo.y\n",
    "\n",
    "        neighbors = model_searcher.kneighbors([[lon, lat]])\n",
    "\n",
    "        if len(neighbors[1][0]) == 0:\n",
    "            not_possible_lines.append(target_geo)\n",
    "            continue\n",
    "\n",
    "        neigh_boundaries = df_boundaries.iloc[neighbors[1][0], -1]\n",
    "        stacked = [[x, y] for x, y in zip(neigh_boundaries.x, neigh_boundaries.y)]\n",
    "\n",
    "        # Construct a density based clustering solution\n",
    "        model_clustering = DBSCAN(eps=.000005, min_samples=1, n_jobs=-1).fit(stacked)\n",
    "\n",
    "        c = pd.DataFrame({\n",
    "            'dis': neighbors[0][0],\n",
    "            'node_id': neighbors[1][0],\n",
    "            'label': model_clustering.labels_\n",
    "        })\n",
    "\n",
    "        c_dis_mu = c.groupby('label')['dis'].mean()\n",
    "        c_nods = c.groupby('label')['node_id'].apply(list).to_dict()\n",
    "\n",
    "        nearest_idx = []\n",
    "        for label, dis in enumerate(c_dis_mu):\n",
    "            if max_dis is not None and (c_dis_mu[0] > max_dis or dis > max_dis):\n",
    "                break\n",
    "\n",
    "            if (dis - c_dis_mu[0]) < threshold:\n",
    "                nearest_idx = nearest_idx + c_nods[label]\n",
    "\n",
    "        draw_lines = [LineString([neighbor, target_geo]) for neighbor in list(df_boundaries.iloc[nearest_idx, -1])]\n",
    "        reconstructed.append(draw_lines)\n",
    "\n",
    "    return reconstructed, not_possible_lines"
   ],
   "metadata": {
    "collapsed": false,
    "ExecuteTime": {
     "end_time": "2023-05-25T10:04:51.381403Z",
     "start_time": "2023-05-25T10:04:51.370863Z"
    }
   }
  },
  {
   "cell_type": "code",
   "execution_count": 23,
   "outputs": [
    {
     "name": "stdout",
     "output_type": "stream",
     "text": [
      "CPU times: user 433 ms, sys: 8.21 ms, total: 441 ms\n",
      "Wall time: 450 ms\n"
     ]
    }
   ],
   "source": [
    "%%time\n",
    "\n",
    "max_dis = .000120\n",
    "model_neigh_searcher = NearestNeighbors(n_neighbors=20, radius=max_dis, n_jobs=-1).fit(df_all_low_voltage_boundaries.values)"
   ],
   "metadata": {
    "collapsed": false,
    "ExecuteTime": {
     "end_time": "2023-05-25T08:55:22.683512Z",
     "start_time": "2023-05-25T08:55:22.231274Z"
    }
   }
  },
  {
   "cell_type": "code",
   "execution_count": 34,
   "outputs": [
    {
     "name": "stderr",
     "output_type": "stream",
     "text": [
      "100%|██████████| 32956/32956 [02:17<00:00, 239.23it/s]"
     ]
    },
    {
     "name": "stdout",
     "output_type": "stream",
     "text": [
      "CPU times: user 1min 53s, sys: 39.1 s, total: 2min 32s\n",
      "Wall time: 2min 17s\n"
     ]
    },
    {
     "name": "stderr",
     "output_type": "stream",
     "text": [
      "\n"
     ]
    }
   ],
   "source": [
    "%%time\n",
    "\n",
    "reconstructed, not_possible_lines = compute_net_reconstructor(middenspanningsinstallaties.geometry, model_neigh_searcher)"
   ],
   "metadata": {
    "collapsed": false,
    "ExecuteTime": {
     "end_time": "2023-05-25T09:39:09.493683Z",
     "start_time": "2023-05-25T09:36:51.733813Z"
    }
   }
  },
  {
   "cell_type": "code",
   "execution_count": 54,
   "outputs": [
    {
     "name": "stderr",
     "output_type": "stream",
     "text": [
      "100%|██████████| 78748/78748 [05:41<00:00, 230.89it/s]"
     ]
    },
    {
     "name": "stdout",
     "output_type": "stream",
     "text": [
      "CPU times: user 4min 36s, sys: 1min 41s, total: 6min 17s\n",
      "Wall time: 5min 41s\n"
     ]
    },
    {
     "name": "stderr",
     "output_type": "stream",
     "text": [
      "\n"
     ]
    }
   ],
   "source": [
    "%%time\n",
    "\n",
    "reconstructed_lsv, not_possible_lines_lsv = compute_net_reconstructor(laagspanningsverdeelkasten.geometry, model_neigh_searcher, .000020)"
   ],
   "metadata": {
    "collapsed": false,
    "ExecuteTime": {
     "end_time": "2023-05-25T10:11:33.958044Z",
     "start_time": "2023-05-25T10:05:52.882756Z"
    }
   }
  },
  {
   "cell_type": "code",
   "execution_count": 55,
   "outputs": [
    {
     "data": {
      "text/plain": "111704"
     },
     "execution_count": 55,
     "metadata": {},
     "output_type": "execute_result"
    }
   ],
   "source": [
    "all_reconstructed = reconstructed + reconstructed_lsv\n",
    "len(all_reconstructed)"
   ],
   "metadata": {
    "collapsed": false,
    "ExecuteTime": {
     "end_time": "2023-05-25T10:17:07.549167Z",
     "start_time": "2023-05-25T10:17:07.538791Z"
    }
   }
  },
  {
   "cell_type": "code",
   "execution_count": 56,
   "outputs": [
    {
     "data": {
      "text/plain": "213910"
     },
     "execution_count": 56,
     "metadata": {},
     "output_type": "execute_result"
    }
   ],
   "source": [
    "line_strings = [line for lines in all_reconstructed for line in lines]\n",
    "len(line_strings)"
   ],
   "metadata": {
    "collapsed": false,
    "ExecuteTime": {
     "end_time": "2023-05-25T10:17:09.947858Z",
     "start_time": "2023-05-25T10:17:09.941707Z"
    }
   }
  },
  {
   "cell_type": "markdown",
   "source": [
    "## 2.3 Save results as reconstructed lines"
   ],
   "metadata": {
    "collapsed": false
   }
  },
  {
   "cell_type": "code",
   "execution_count": 57,
   "outputs": [],
   "source": [
    "gpd_reconstructed = gpd.GeoDataFrame({\n",
    "    'geometry': line_strings\n",
    "}, crs=CRS)"
   ],
   "metadata": {
    "collapsed": false,
    "ExecuteTime": {
     "end_time": "2023-05-25T10:17:14.819318Z",
     "start_time": "2023-05-25T10:17:14.662440Z"
    }
   }
  },
  {
   "cell_type": "code",
   "execution_count": 58,
   "outputs": [],
   "source": [
    "# Store as geojson\n",
    "gpd_reconstructed.to_file('reconstructed_lines_msi_lsv.geojson', driver=\"GeoJSON\")"
   ],
   "metadata": {
    "collapsed": false,
    "ExecuteTime": {
     "end_time": "2023-05-25T10:17:23.040481Z",
     "start_time": "2023-05-25T10:17:15.683759Z"
    }
   }
  },
  {
   "cell_type": "code",
   "execution_count": 59,
   "outputs": [],
   "source": [
    "# Store as geodataframe\n",
    "gpd_reconstructed.to_parquet('reconstructed_lines_msi_lsv.pyarrow')"
   ],
   "metadata": {
    "collapsed": false,
    "ExecuteTime": {
     "end_time": "2023-05-25T11:22:42.945305Z",
     "start_time": "2023-05-25T11:22:42.747973Z"
    }
   }
  },
  {
   "cell_type": "code",
   "execution_count": null,
   "outputs": [],
   "source": [
    "# 6.48077 51.87102"
   ],
   "metadata": {
    "collapsed": false
   }
  },
  {
   "cell_type": "markdown",
   "source": [
    "# Future work\n",
    "\n",
    "Instead of obtaining the nose and tail of each linestring (e.g. represented in a path vector), merge the \"sub linestrings\" in order to have 1 linestring representing a path. After this process step 2 can be repeated."
   ],
   "metadata": {
    "collapsed": false
   }
  },
  {
   "cell_type": "code",
   "execution_count": null,
   "outputs": [],
   "source": [
    "# TODO: Run segmented data for clustering solution without using targets"
   ],
   "metadata": {
    "collapsed": false
   }
  }
 ],
 "metadata": {
  "kernelspec": {
   "display_name": "Python 3",
   "language": "python",
   "name": "python3"
  },
  "language_info": {
   "codemirror_mode": {
    "name": "ipython",
    "version": 2
   },
   "file_extension": ".py",
   "mimetype": "text/x-python",
   "name": "python",
   "nbconvert_exporter": "python",
   "pygments_lexer": "ipython2",
   "version": "2.7.6"
  }
 },
 "nbformat": 4,
 "nbformat_minor": 0
}
